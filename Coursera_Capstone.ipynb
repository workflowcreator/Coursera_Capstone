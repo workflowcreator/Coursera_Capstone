{
 "cells": [
  {
   "cell_type": "markdown",
   "id": "e7e1f7ef-6906-466d-8fd9-2de470abc4c6",
   "metadata": {},
   "source": [
    "# Coursera Capstone Project\n",
    "### This notebook will be used for work related to the Applied Data Science Capstone Project offered by IBM and Coursera"
   ]
  },
  {
   "cell_type": "code",
   "execution_count": 1,
   "id": "f3425c81-3ca4-42ea-a0b6-4f27348d8c05",
   "metadata": {},
   "outputs": [
    {
     "name": "stdout",
     "output_type": "stream",
     "text": [
      " Hello Capstone Project Course!\n"
     ]
    }
   ],
   "source": [
    "import pandas as pd\n",
    "import numpy as np\n",
    "\n",
    "print(' Hello Capstone Project Course!')"
   ]
  },
  {
   "cell_type": "code",
   "execution_count": null,
   "id": "a2a22f6d-d997-4e89-b251-ad12f54ebedc",
   "metadata": {},
   "outputs": [],
   "source": []
  }
 ],
 "metadata": {
  "kernelspec": {
   "display_name": "Python",
   "language": "python",
   "name": "conda-env-python-py"
  },
  "language_info": {
   "codemirror_mode": {
    "name": "ipython",
    "version": 3
   },
   "file_extension": ".py",
   "mimetype": "text/x-python",
   "name": "python",
   "nbconvert_exporter": "python",
   "pygments_lexer": "ipython3",
   "version": "3.6.13"
  }
 },
 "nbformat": 4,
 "nbformat_minor": 5
}
