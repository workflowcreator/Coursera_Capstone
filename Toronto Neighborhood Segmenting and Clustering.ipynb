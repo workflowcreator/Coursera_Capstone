{
 "cells": [
  {
   "cell_type": "markdown",
   "id": "0c105b1e-3595-4f92-809c-c69a097d05c8",
   "metadata": {},
   "source": [
    "<center><img src = \"https://external-content.duckduckgo.com/iu/?u=https%3A%2F%2Ftse1.mm.bing.net%2Fth%3Fid%3DOIP.WmN3Js3CIU7Yy072-JKSEQHaDH%26pid%3DApi&f=1\" width = 400></center>\n",
    "\n",
    "<h1 align=center><font size = 5>Segmenting and Clustering Neighborhoods in Toronto</font></h1>\n",
    "\n",
    "<center>Toronto is a beautiful city with many diverse neighborhoods. I will explore analyze them by scraping postal codes from Wikipedia and utilizing Foursquare's powerful API to derive additional insights.</center>"
   ]
  },
  {
   "cell_type": "markdown",
   "id": "bb1212de-f8ea-46e9-b69d-f60810779cb2",
   "metadata": {},
   "source": [
    "## Table of Contents\n",
    "\n",
    "<div class=\"alert alert-block alert-info\" style=\"margin-top: 20px\">\n",
    "\n",
    "<font size = 3>\n",
    "\n",
    "1.  <a href=\"#item1\">Scraping Postal Codes from Wikipedia</a>\n",
    "\n",
    "2.  <a href=\"#item2\">Extracting Toronto Data from Foursquare API</a>\n",
    "\n",
    "3.  <a href=\"#item3\">Segmenting and Clustering Data</a>\n",
    "    </font>\n",
    "    </div>\n"
   ]
  },
  {
   "cell_type": "code",
   "execution_count": null,
   "id": "06816624-53c9-4244-bad2-2f391465d38a",
   "metadata": {},
   "outputs": [],
   "source": [
    "import numpy as np\n",
    "import pandas as pd\n",
    "pd.set_option('display.max_columns', None)\n",
    "pd.set_option('display.max_rows', None)\n",
    "from pandas.io.json import json_normalize\n",
    "import json\n",
    "import requests\n",
    "import matplotlib.cm as cm\n",
    "import matplotlib.colors as colors\n",
    "from sklearn.cluster import KMeans\n",
    "\n",
    "!conda install -c conda-forge geopy --yes\n",
    "from geopy.geocoders import Nominatim\n",
    "\n",
    "!conda install -c conda-forge folium=0.5.0 --yes\n",
    "import folium # map rendering library\n",
    "\n",
    "!pip install bs4\n",
    "from bs4 import BeautifulSoup\n",
    "\n",
    "print('Libraries imported.')"
   ]
  },
  {
   "cell_type": "markdown",
   "id": "08c7a1af-389a-4acb-b687-bd88440997d4",
   "metadata": {},
   "source": [
    "# 1. Scraping Postal Codes from Wikipedia"
   ]
  },
  {
   "cell_type": "markdown",
   "id": "69ca873e-e5cd-4cad-94dc-f5de9e0c1786",
   "metadata": {},
   "source": [
    "# 2. Extracting Toronto Data from Foursquare API"
   ]
  },
  {
   "cell_type": "markdown",
   "id": "74234df4-3336-43c7-9944-82b2d3c7143e",
   "metadata": {},
   "source": [
    "# 3. Segmenting and Clustering Data"
   ]
  },
  {
   "cell_type": "code",
   "execution_count": null,
   "id": "f969d4b0-3a2c-4d32-8fe5-f363dabb825a",
   "metadata": {},
   "outputs": [],
   "source": []
  }
 ],
 "metadata": {
  "kernelspec": {
   "display_name": "Python",
   "language": "python",
   "name": "conda-env-python-py"
  },
  "language_info": {
   "codemirror_mode": {
    "name": "ipython",
    "version": 3
   },
   "file_extension": ".py",
   "mimetype": "text/x-python",
   "name": "python",
   "nbconvert_exporter": "python",
   "pygments_lexer": "ipython3",
   "version": "3.6.13"
  }
 },
 "nbformat": 4,
 "nbformat_minor": 5
}
