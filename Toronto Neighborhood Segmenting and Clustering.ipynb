{
 "cells": [
  {
   "cell_type": "markdown",
   "id": "0c105b1e-3595-4f92-809c-c69a097d05c8",
   "metadata": {},
   "source": [
    "<center><img src = \"https://external-content.duckduckgo.com/iu/?u=https%3A%2F%2Ftse1.mm.bing.net%2Fth%3Fid%3DOIP.WmN3Js3CIU7Yy072-JKSEQHaDH%26pid%3DApi&f=1\" width = 400></center>"
   ]
  },
  {
   "cell_type": "markdown",
   "id": "8624f398-4fc8-4712-8d9a-893294042e5d",
   "metadata": {},
   "source": [
    "<h1 align=center><font size = 5>Segmenting and Clustering Neighborhoods in Toronto</font></h1>\n",
    "\n",
    "<center>Toronto is a beautiful city with many diverse neighborhoods. I will explore analyze them by scraping postal codes from Wikipedia and utilizing Foursquare's powerful API to derive additional insights.</center>"
   ]
  },
  {
   "cell_type": "markdown",
   "id": "bb1212de-f8ea-46e9-b69d-f60810779cb2",
   "metadata": {},
   "source": [
    "## Table of Contents\n",
    "\n",
    "<font size = 3>\n",
    "\n",
    "1.  <a href=\"#item1\">Scraping Postal Codes from Wikipedia</a>\n",
    "\n",
    "2.  <a href=\"#item2\">Extracting Toronto Data from Foursquare API</a>\n",
    "\n",
    "3.  <a href=\"#item3\">Segmenting and Clustering Data</a>\n",
    "    </font>"
   ]
  },
  {
   "cell_type": "code",
   "execution_count": null,
   "id": "06816624-53c9-4244-bad2-2f391465d38a",
   "metadata": {},
   "outputs": [
    {
     "name": "stdout",
     "output_type": "stream",
     "text": [
      "Collecting package metadata (current_repodata.json): done\n",
      "Solving environment: done\n",
      "\n",
      "# All requested packages already installed.\n",
      "\n",
      "Collecting package metadata (current_repodata.json): - "
     ]
    }
   ],
   "source": [
    "import numpy as np\n",
    "import pandas as pd\n",
    "pd.set_option('display.max_columns', None)\n",
    "pd.set_option('display.max_rows', None)\n",
    "from pandas.io.json import json_normalize\n",
    "import json\n",
    "import requests\n",
    "import matplotlib.cm as cm\n",
    "import matplotlib.colors as colors\n",
    "import matplotlib.pyplot as plt \n",
    "from sklearn.cluster import KMeans\n",
    "\n",
    "!conda install -c conda-forge geopy --yes\n",
    "from geopy.geocoders import Nominatim\n",
    "\n",
    "!conda install -c conda-forge folium=0.5.0 --yes\n",
    "import folium # map rendering library\n",
    "\n",
    "!pip install geocoder\n",
    "import geocoder\n",
    "\n",
    "!pip install bs4\n",
    "from bs4 import BeautifulSoup\n",
    "\n",
    "print('Libraries imported.')"
   ]
  },
  {
   "cell_type": "markdown",
   "id": "08c7a1af-389a-4acb-b687-bd88440997d4",
   "metadata": {},
   "source": [
    "# 1. Scraping Postal Codes from Wikipedia"
   ]
  },
  {
   "cell_type": "code",
   "execution_count": 10,
   "id": "1fa84c6e-e0c3-44dc-b332-d0132e9f8e0e",
   "metadata": {},
   "outputs": [
    {
     "data": {
      "text/plain": [
       "3"
      ]
     },
     "execution_count": 10,
     "metadata": {},
     "output_type": "execute_result"
    }
   ],
   "source": [
    "# Scraping text from Wikipedia\n",
    "url = 'https://en.wikipedia.org/wiki/List_of_postal_codes_of_Canada:_M'\n",
    "soup = BeautifulSoup(requests.get(url).text, 'html5lib')\n",
    "tables = soup.find_all('table')\n",
    "len(tables)  # Checking how many tables there are"
   ]
  },
  {
   "cell_type": "code",
   "execution_count": 18,
   "id": "5687f3a5-55e0-4f0a-bccd-5d78d719699a",
   "metadata": {},
   "outputs": [
    {
     "name": "stdout",
     "output_type": "stream",
     "text": [
      "Table  0\n",
      "{'style': 'width:100%; border-collapse:collapse; border:1px solid #ccc;', 'cellpadding': '2', 'cellspacing': '0', 'rules': 'all'}\n",
      "# rows:  20\n",
      "# columns:  9 \n",
      "\n",
      "Table  1\n",
      "{'class': ['navbox']}\n",
      "# rows:  4\n",
      "# columns:  2 \n",
      "\n",
      "Table  2\n",
      "{'cellspacing': '0', 'style': 'background-color: #F8F8F8;', 'width': '100%'}\n",
      "# rows:  2\n",
      "# columns:  12 \n",
      "\n"
     ]
    }
   ],
   "source": [
    "# Getting details about the tables to identify the correct one\n",
    "for i, table in enumerate(tables):\n",
    "    print('Table ', i)\n",
    "    print(table.attrs)\n",
    "    print('# rows: ', len(table.find_all('tr')))\n",
    "    print('# columns: ', len(table.tr.find_all('td')), '\\n')"
   ]
  },
  {
   "cell_type": "code",
   "execution_count": 30,
   "id": "1daeab44-c7a8-46f1-b1b0-ce21329ed472",
   "metadata": {},
   "outputs": [
    {
     "data": {
      "text/html": [
       "<div>\n",
       "<style scoped>\n",
       "    .dataframe tbody tr th:only-of-type {\n",
       "        vertical-align: middle;\n",
       "    }\n",
       "\n",
       "    .dataframe tbody tr th {\n",
       "        vertical-align: top;\n",
       "    }\n",
       "\n",
       "    .dataframe thead th {\n",
       "        text-align: right;\n",
       "    }\n",
       "</style>\n",
       "<table border=\"1\" class=\"dataframe\">\n",
       "  <thead>\n",
       "    <tr style=\"text-align: right;\">\n",
       "      <th></th>\n",
       "      <th>PostalCode</th>\n",
       "      <th>Borough</th>\n",
       "      <th>Neighborhood</th>\n",
       "    </tr>\n",
       "  </thead>\n",
       "  <tbody>\n",
       "    <tr>\n",
       "      <th>0</th>\n",
       "      <td>M3A</td>\n",
       "      <td>North York</td>\n",
       "      <td>Parkwoods</td>\n",
       "    </tr>\n",
       "    <tr>\n",
       "      <th>1</th>\n",
       "      <td>M4A</td>\n",
       "      <td>North York</td>\n",
       "      <td>Victoria Village</td>\n",
       "    </tr>\n",
       "    <tr>\n",
       "      <th>2</th>\n",
       "      <td>M5A</td>\n",
       "      <td>Downtown Toronto</td>\n",
       "      <td>Regent Park, Harbourfront</td>\n",
       "    </tr>\n",
       "    <tr>\n",
       "      <th>3</th>\n",
       "      <td>M6A</td>\n",
       "      <td>North York</td>\n",
       "      <td>Lawrence Manor, Lawrence Heights</td>\n",
       "    </tr>\n",
       "    <tr>\n",
       "      <th>4</th>\n",
       "      <td>M7A</td>\n",
       "      <td>Queen's Park</td>\n",
       "      <td>Ontario Provincial Government</td>\n",
       "    </tr>\n",
       "  </tbody>\n",
       "</table>\n",
       "</div>"
      ],
      "text/plain": [
       "  PostalCode           Borough                      Neighborhood\n",
       "0        M3A        North York                         Parkwoods\n",
       "1        M4A        North York                  Victoria Village\n",
       "2        M5A  Downtown Toronto         Regent Park, Harbourfront\n",
       "3        M6A        North York  Lawrence Manor, Lawrence Heights\n",
       "4        M7A      Queen's Park     Ontario Provincial Government"
      ]
     },
     "execution_count": 30,
     "metadata": {},
     "output_type": "execute_result"
    }
   ],
   "source": [
    "# Getting postal codes from the first table\n",
    "pcTable = []  # Empty list to store table content\n",
    "\n",
    "for cell in tables[0].find_all('td'):\n",
    "    pcRow = {}\n",
    "    if cell.span.text == 'Not assigned':  # Removing unnassigned codes\n",
    "        pass\n",
    "    else:\n",
    "        pcRow['PostalCode'] = cell.p.text[:3]\n",
    "        pcRow['Borough'] = (cell.span.text).split('(')[0]\n",
    "        pcRow['Neighborhood'] = (((((cell.span.text).split('(')[1]).strip(')')).replace(' /',',')).replace(')',' ')).strip(' ')\n",
    "        pcTable.append(pcRow)\n",
    "\n",
    "df = pd.DataFrame(pcTable)  # Creating dataframe\n",
    "df['Borough'] = df['Borough'].replace({'Downtown TorontoStn A PO Boxes25 The Esplanade': 'Downtown Toronto Stn A',  # Cleaning text\n",
    "                                       'East TorontoBusiness reply mail Processing Centre969 Eastern': 'East Toronto Business',\n",
    "                                       'EtobicokeNorthwest': 'Etobicoke Northwest','East YorkEast Toronto': 'East York/East Toronto',\n",
    "                                       'MississaugaCanada Post Gateway Processing Centre': 'Mississauga'})\n",
    "\n",
    "df.head()"
   ]
  },
  {
   "cell_type": "code",
   "execution_count": 29,
   "id": "84a3b09d-896d-492d-b7be-ea9e7d48ec9a",
   "metadata": {},
   "outputs": [
    {
     "name": "stdout",
     "output_type": "stream",
     "text": [
      "DataFrame size:  (103, 3)\n"
     ]
    }
   ],
   "source": [
    "print('DataFrame size: ', df.shape)"
   ]
  },
  {
   "cell_type": "markdown",
   "id": "69ca873e-e5cd-4cad-94dc-f5de9e0c1786",
   "metadata": {},
   "source": [
    "# 2. Extracting Toronto Data from Foursquare API"
   ]
  },
  {
   "cell_type": "code",
   "execution_count": null,
   "id": "bedeac6c-46c8-4478-99e1-b62ccab344d7",
   "metadata": {},
   "outputs": [],
   "source": [
    "# First I need coordinates for each postal code\n",
    "lat_lng_coords = None  # Empty variable to store coordinates\n",
    "\n",
    "for pc in df['PostalCode']:\n",
    "    while(lat_lng_coords is None):\n",
    "        g = geocoder.google('{}, Toronto, Ontario'.format(postal_code))\n",
    "        lat_lng_coords = g.latlng\n",
    "\n",
    "    latitude = lat_lng_coords[0]\n",
    "    longitude = lat_lng_coords[1]"
   ]
  },
  {
   "cell_type": "markdown",
   "id": "74234df4-3336-43c7-9944-82b2d3c7143e",
   "metadata": {},
   "source": [
    "# 3. Segmenting and Clustering Data"
   ]
  },
  {
   "cell_type": "code",
   "execution_count": null,
   "id": "f969d4b0-3a2c-4d32-8fe5-f363dabb825a",
   "metadata": {},
   "outputs": [],
   "source": []
  }
 ],
 "metadata": {
  "kernelspec": {
   "display_name": "Python",
   "language": "python",
   "name": "conda-env-python-py"
  },
  "language_info": {
   "codemirror_mode": {
    "name": "ipython",
    "version": 3
   },
   "file_extension": ".py",
   "mimetype": "text/x-python",
   "name": "python",
   "nbconvert_exporter": "python",
   "pygments_lexer": "ipython3",
   "version": "3.6.13"
  }
 },
 "nbformat": 4,
 "nbformat_minor": 5
}
