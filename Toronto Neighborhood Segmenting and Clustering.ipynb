{
    "cells": [
        {
            "cell_type": "markdown",
            "metadata": {},
            "source": "<center><img src = \"https://external-content.duckduckgo.com/iu/?u=https%3A%2F%2Ftse1.mm.bing.net%2Fth%3Fid%3DOIP.WmN3Js3CIU7Yy072-JKSEQHaDH%26pid%3DApi&f=1\" width = 400></center>"
        },
        {
            "cell_type": "markdown",
            "metadata": {},
            "source": "# Segmenting and Clustering Neighborhoods in Toronto\nToronto is a beautiful city with many diverse neighborhoods. I will explore analyze them by scraping postal codes from Wikipedia and utilizing Foursquare's powerful API to derive additional insights."
        },
        {
            "cell_type": "code",
            "execution_count": null,
            "metadata": {},
            "outputs": [
                {
                    "name": "stdout",
                    "output_type": "stream",
                    "text": "Collecting package metadata (current_repodata.json): done\nSolving environment: done\n"
                }
            ],
            "source": "import numpy as np\nimport pandas as pd\npd.set_option('display.max_columns', None)\npd.set_option('display.max_rows', None)\nfrom pandas.io.json import json_normalize\nimport json\nimport requests\nimport matplotlib.cm as cm\nimport matplotlib.colors as colors\nimport matplotlib.pyplot as plt \nfrom sklearn.cluster import KMeans\n\n!conda install -c conda-forge geopy --yes\nfrom geopy.geocoders import Nominatim\n\n!conda install -c conda-forge folium=0.5.0 --yes\nimport folium # map rendering library\n\n!pip install geocoder\nimport geocoder\n\n!pip install bs4\nfrom bs4 import BeautifulSoup\n\nprint('Libraries imported.')"
        },
        {
            "cell_type": "markdown",
            "metadata": {},
            "source": "# Section 1: Scraping Postal Codes from Wikipedia"
        },
        {
            "cell_type": "code",
            "execution_count": null,
            "metadata": {},
            "outputs": [],
            "source": "# Scraping text from Wikipedia\nurl = 'https://en.wikipedia.org/wiki/List_of_postal_codes_of_Canada:_M'\nsoup = BeautifulSoup(requests.get(url).text, 'html5lib')\ntables = soup.find_all('table')\nlen(tables)  # Checking how many tables there are"
        },
        {
            "cell_type": "code",
            "execution_count": null,
            "metadata": {},
            "outputs": [],
            "source": "# Getting details about the tables to identify the correct one\nfor i, table in enumerate(tables):\n    print('Table ', i)\n    print(table.attrs)\n    print('# rows: ', len(table.find_all('tr')))\n    print('# columns: ', len(table.tr.find_all('td')), '\\n')"
        },
        {
            "cell_type": "code",
            "execution_count": null,
            "metadata": {},
            "outputs": [],
            "source": "# Getting postal codes from the first table\npcTable = []  # Empty list to store table content\n\nfor cell in tables[0].find_all('td'):\n    pcRow = {}\n    if cell.span.text == 'Not assigned':  # Removing unnassigned codes\n        pass\n    else:\n        pcRow['Postal Code'] = cell.p.text[:3]\n        pcRow['Borough'] = (cell.span.text).split('(')[0]\n        pcRow['Neighborhood'] = (((((cell.span.text).split('(')[1]).strip(')')).replace(' /',',')).replace(')',' ')).strip(' ')\n        pcTable.append(pcRow)\n\nboroughs = pd.DataFrame(pcTable)  # Creating dataframe\nboroughs['Borough'] = boroughs['Borough'].replace({'Downtown TorontoStn A PO Boxes25 The Esplanade': 'Downtown Toronto Stn A',  # Cleaning text\n                                       'East TorontoBusiness reply mail Processing Centre969 Eastern': 'East Toronto Business',\n                                       'EtobicokeNorthwest': 'Etobicoke Northwest','East YorkEast Toronto': 'East York/East Toronto',\n                                       'MississaugaCanada Post Gateway Processing Centre': 'Mississauga'})\nboroughs.head()"
        },
        {
            "cell_type": "code",
            "execution_count": null,
            "metadata": {},
            "outputs": [],
            "source": "print('DataFrame size: ', boroughs.shape)"
        },
        {
            "cell_type": "markdown",
            "metadata": {},
            "source": "# Section 2: Collecting Latitude and Longitude for Toronto Neighborhoods"
        },
        {
            "cell_type": "markdown",
            "metadata": {},
            "source": "Could never get geocoder to return a response, so I had to rely on the CSV provided in the hints."
        },
        {
            "cell_type": "code",
            "execution_count": null,
            "metadata": {},
            "outputs": [],
            "source": "gs_data = pd.read_csv('https://cf-courses-data.s3.us.cloud-object-storage.appdomain.cloud/IBMDeveloperSkillsNetwork-DS0701EN-SkillsNetwork/labs_v1/Geospatial_Coordinates.csv')\ngs_data.head()"
        },
        {
            "cell_type": "code",
            "execution_count": null,
            "metadata": {},
            "outputs": [],
            "source": "type(gs_data)  # disregard..kept getting 'Nonetype has no attribute __' errors"
        },
        {
            "cell_type": "code",
            "execution_count": null,
            "metadata": {},
            "outputs": [],
            "source": "type(boroughs)  # disregard..kept getting 'Nonetype has no attribute __' errors"
        },
        {
            "cell_type": "code",
            "execution_count": null,
            "metadata": {},
            "outputs": [],
            "source": "# Joining the data from the csv with the first dataframe on Postal Code column\ndf = boroughs.merge(gs_data, on='Postal Code')\ndf.head()"
        },
        {
            "cell_type": "code",
            "execution_count": null,
            "metadata": {},
            "outputs": [],
            "source": "print('New dataframe size: ', df.shape)"
        },
        {
            "cell_type": "markdown",
            "metadata": {},
            "source": "# Section 3: Extracting Toronto Data From Foursquare API\n"
        },
        {
            "cell_type": "code",
            "execution_count": null,
            "metadata": {},
            "outputs": [],
            "source": "# The code was removed by Watson Studio for sharing."
        },
        {
            "cell_type": "code",
            "execution_count": null,
            "metadata": {},
            "outputs": [],
            "source": "VERSION = '20180605'\ncred = '&client_id={}&client_secret={}&v={}'.format(YOUR_CLIENT_ID,\n                                                   YOUR_CLIENT_SECRET,\n                                                   VERSION)"
        },
        {
            "cell_type": "markdown",
            "metadata": {},
            "source": "#### Creating a formula to get venues and categories from each neighborhood:"
        },
        {
            "cell_type": "code",
            "execution_count": null,
            "metadata": {},
            "outputs": [],
            "source": "def getVenues(neighs, latitudes, longitudes, radius=500, limit=500):\n    venues = []\n    for neigh, lat, lng in zip(neighs, latitudes, longitudes):\n        print(neigh)\n        # create the API request URL\n        url = 'https://api.foursquare.com/v2/venues/explore?'+cred+'&ll={},{}&radius={}&limit={}'.format(\n            lat,\n            lng,\n            radius,\n            limit)\n\n        # GET request\n        results = requests.get(url).json()[\"response\"]['groups'][0]['items']\n\n        # return only relevant information for each nearby venue\n        venues.append([(\n            neigh,\n            lat,\n            lng,\n            v['venue']['name'],\n            v['venue']['location']['lat'],\n            v['venue']['location']['lng'],\n            v['venue']['categories'][0]['name']) for v in results])\n\n    nearby_venues = pd.DataFrame([item for venues in venues for item in venues])\n    nearby_venues.columns = ['Neighborhood',\n                             'Neighborhood Latitude',\n                             'Neighborhood Longitude',\n                             'Venue',\n                             'Venue Latitude',\n                             'Venue Longitude',\n                             'Venue Category']\n\n    return(nearby_venues)"
        },
        {
            "cell_type": "markdown",
            "metadata": {},
            "source": "#### I chose to work with just neighborhoods in boroughs that had 'Toronto' in their name, so I created a new dataframe with just those:"
        },
        {
            "cell_type": "code",
            "execution_count": null,
            "metadata": {},
            "outputs": [],
            "source": "t_neighs = []\nfor i, bor in enumerate(df['Borough']):\n    t_data = {}\n    if bor.find('Toronto') == -1:\n        pass\n    else:\n        t_data['Postal Code'] = df['Postal Code'][i]\n        t_data['Borough'] = bor\n        t_data['Neighborhood'] = df['Neighborhood'][i]\n        t_data['Longitude'] = df['Longitude'][i]\n        t_data['Latitude'] = df['Latitude'][i]\n        t_neighs.append(t_data)\ntdf = pd.DataFrame(t_neighs)\ntdf.head()"
        },
        {
            "cell_type": "code",
            "execution_count": null,
            "metadata": {},
            "outputs": [],
            "source": "print('Size: ', tdf.shape)"
        },
        {
            "cell_type": "code",
            "execution_count": null,
            "metadata": {},
            "outputs": [],
            "source": "# Running the formula on my new dataframe:\ntoronto_venues = getVenues(neighs=tdf['Neighborhood'],\n                           latitudes=tdf['Latitude'],\n                           longitudes=tdf['Longitude'])"
        },
        {
            "cell_type": "code",
            "execution_count": null,
            "metadata": {},
            "outputs": [],
            "source": "toronto_venues.head()"
        },
        {
            "cell_type": "code",
            "execution_count": null,
            "metadata": {},
            "outputs": [],
            "source": "toronto_venues.groupby('Neighborhood').count()"
        },
        {
            "cell_type": "code",
            "execution_count": null,
            "metadata": {},
            "outputs": [],
            "source": "print('There are {} venues total and {} unique venue categories.'.format(\n    toronto_venues.shape[0],\n    len(toronto_venues['Venue Category'].unique())))"
        },
        {
            "cell_type": "markdown",
            "metadata": {},
            "source": "# Section 4: Neighborhood Analysis and Segmenting"
        },
        {
            "cell_type": "code",
            "execution_count": null,
            "metadata": {},
            "outputs": [],
            "source": "# Doing some one-hot encoding with the categories\ntoronto_onehot = pd.get_dummies(toronto_venues[['Venue Category']], prefix=\"\", prefix_sep=\"\")"
        },
        {
            "cell_type": "markdown",
            "metadata": {},
            "source": "#### After multiple errors, I discovered that one of the venue categories is 'Neighborhood'. So when I add my Neighborhood column back into the dataframe, I will need to add an underscore to differentiate them."
        },
        {
            "cell_type": "code",
            "execution_count": null,
            "metadata": {},
            "outputs": [],
            "source": "# Checking to see which venues have the neighborhood category, out of curiosity\nfor i, category in enumerate(toronto_venues['Venue Category']):\n    if category.find('Neigh') == -1:\n        pass\n    else:\n        print('{} - {}'.format(toronto_venues['Venue'][i], category))"
        },
        {
            "cell_type": "code",
            "execution_count": null,
            "metadata": {},
            "outputs": [],
            "source": "# Setting Neighborhood_ to the first column\nfixed_columns = ['Neighborhood_'] + list(toronto_onehot.columns[::])\n\n# Adding Neighborhood_\ntoronto_onehot['Neighborhood_'] = toronto_venues['Neighborhood']\n\ntoronto_onehot = toronto_onehot[fixed_columns]\n\ntoronto_onehot.head()"
        },
        {
            "cell_type": "code",
            "execution_count": null,
            "metadata": {},
            "outputs": [],
            "source": "print('Onehot dataframe size: ', toronto_onehot.shape)"
        },
        {
            "cell_type": "markdown",
            "metadata": {},
            "source": "\n#### Grouping by Neighborhood_ and getting the frequency for each category:"
        },
        {
            "cell_type": "code",
            "execution_count": null,
            "metadata": {},
            "outputs": [],
            "source": "toronto_grouped = toronto_onehot.groupby('Neighborhood_').mean().reset_index()\ntoronto_grouped.head()"
        },
        {
            "cell_type": "code",
            "execution_count": null,
            "metadata": {},
            "outputs": [],
            "source": "print('Grouped dataframe size is ', toronto_grouped.shape)"
        },
        {
            "cell_type": "markdown",
            "metadata": {},
            "source": "#### Creating the function to sort venues in descending order:"
        },
        {
            "cell_type": "code",
            "execution_count": null,
            "metadata": {},
            "outputs": [],
            "source": "def return_most_common_venues(row, num_top_venues):\n    row_categories = row.iloc[1:]\n    row_categories_sorted = row_categories.sort_values(ascending=False)\n\n    return row_categories_sorted.index.values[0:num_top_venues]"
        },
        {
            "cell_type": "markdown",
            "metadata": {},
            "source": "#### Creating a dataframe of the top ten categories per neighborhood, based on the frequencies above:"
        },
        {
            "cell_type": "code",
            "execution_count": null,
            "metadata": {},
            "outputs": [],
            "source": "num_top_venues = 10\n\nindicators = ['st', 'nd', 'rd']\n\ncolumns = ['Neighborhood']\nfor ind in np.arange(num_top_venues):\n    try:\n        columns.append('{}{} Most Common Venue'.format(ind+1, indicators[ind]))\n    except:\n        columns.append('{}th Most Common Venue'.format(ind+1))\n\n# New dataframe\ntoronto_venues_sorted = pd.DataFrame(columns=columns)\ntoronto_venues_sorted['Neighborhood'] = toronto_grouped['Neighborhood_']\n\n# Getting indicator values\nfor ind in np.arange(toronto_grouped.shape[0]):\n    toronto_venues_sorted.iloc[ind, 1:] = return_most_common_venues(toronto_grouped.iloc[ind, :], num_top_venues)\n\ntoronto_venues_sorted.head()"
        },
        {
            "cell_type": "code",
            "execution_count": null,
            "metadata": {},
            "outputs": [],
            "source": "print('Size: ', toronto_venues_sorted.shape)"
        },
        {
            "cell_type": "markdown",
            "metadata": {},
            "source": "# Section 5: Neighborhood Clustering"
        },
        {
            "cell_type": "markdown",
            "metadata": {},
            "source": "#### Creating a K-means clustering model for the data:"
        },
        {
            "cell_type": "code",
            "execution_count": null,
            "metadata": {},
            "outputs": [],
            "source": "# Making 5 clusters\nk = 5\n\n# Removing string values from the table\ntoronto_grouped_clustering = toronto_grouped.drop('Neighborhood_', 1)\n\n# Fitting the model\nkmeans = KMeans(n_clusters=k, random_state=0).fit(toronto_grouped_clustering)\n\n# Double-checking the labels generated for each row in the dataframe\nkmeans.labels_[0:10]"
        },
        {
            "cell_type": "markdown",
            "metadata": {},
            "source": "#### Inserting cluster information into a final dataframe:"
        },
        {
            "cell_type": "code",
            "execution_count": null,
            "metadata": {},
            "outputs": [],
            "source": "# Adding the labels to the dataframe\ntoronto_venues_sorted.insert(0, 'Cluster', kmeans.labels_)\n\n# Joining with the Toronto ('tdf') dataframe to get lat/long for each neighborhood\ntoronto_merged = tdf.join(toronto_venues_sorted.set_index('Neighborhood'), on='Neighborhood')\n\ntoronto_merged.head()"
        },
        {
            "cell_type": "code",
            "execution_count": null,
            "metadata": {},
            "outputs": [],
            "source": "print('Merged dataframe size: ', toronto_merged.shape)"
        },
        {
            "cell_type": "markdown",
            "metadata": {},
            "source": "#### Generating the cluster map:"
        },
        {
            "cell_type": "code",
            "execution_count": null,
            "metadata": {},
            "outputs": [],
            "source": "# Did a google search to get Toronto coords since geocoder wasn't working (ironic)\nlatitude = 43.7001100\nlongitude = -79.4163000\n\nmap_clusters = folium.Map(location=[latitude, longitude], zoom_start=12)\n\n# set color scheme for the clusters\nx = np.arange(k)\nys = [i + x + (i*x)**2 for i in range(k)]\ncolors_array = cm.rainbow(np.linspace(0, 1, len(ys)))\nrainbow = [colors.rgb2hex(i) for i in colors_array]\n\n# add markers to the map\nmarkers_colors = []\nfor lat, lon, poi, cluster in zip(toronto_merged['Latitude'], toronto_merged['Longitude'], toronto_merged['Neighborhood'], toronto_merged['Cluster']):\n    label = folium.Popup(str(poi) + ' Cluster ' + str(cluster), parse_html=True)\n    folium.CircleMarker(\n        [lat, lon],\n        radius=5,\n        popup=label,\n        color=rainbow[cluster-1],\n        fill=True,\n        fill_color=rainbow[cluster-1],\n        fill_opacity=0.7).add_to(map_clusters)\n\nmap_clusters"
        },
        {
            "cell_type": "code",
            "execution_count": null,
            "metadata": {},
            "outputs": [],
            "source": ""
        }
    ],
    "metadata": {
        "kernelspec": {
            "display_name": "Python 3.7",
            "language": "python",
            "name": "python3"
        },
        "language_info": {
            "codemirror_mode": {
                "name": "ipython",
                "version": 3
            },
            "file_extension": ".py",
            "mimetype": "text/x-python",
            "name": "python",
            "nbconvert_exporter": "python",
            "pygments_lexer": "ipython3",
            "version": "3.7.10"
        }
    },
    "nbformat": 4,
    "nbformat_minor": 5
}